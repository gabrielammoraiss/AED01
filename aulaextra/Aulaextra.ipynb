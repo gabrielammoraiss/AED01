{
 "cells": [
  {
   "cell_type": "markdown",
   "id": "90126184-f38f-4d53-b8fd-a91bf6d10e00",
   "metadata": {},
   "source": [
    "**Fazer um programa que leia um número inteiro, positivo e verifique se esse número é impar ou par**"
   ]
  },
  {
   "cell_type": "code",
   "execution_count": 3,
   "id": "32101237-d15e-4adc-b5ec-d7e3f71056a2",
   "metadata": {},
   "outputs": [
    {
     "name": "stdin",
     "output_type": "stream",
     "text": [
      "Digite um número:  5\n"
     ]
    },
    {
     "name": "stdout",
     "output_type": "stream",
     "text": [
      "5 é um número impar positivo\n"
     ]
    }
   ],
   "source": [
    "# solicitar o número ao usuário\n",
    "num = int (input(\"Digite um número: \"))\n",
    "\n",
    "#verificar se é positivo\n",
    "if num <0:\n",
    "    print (num,\"é um número negativo, digite um número positivo\")\n",
    "\n",
    "#verificar se é par ou impar\n",
    "elif num%2==0:\n",
    "    print (num, \"é um número par positivo\")\n",
    "else:\n",
    "    print (num, \"é um número impar positivo\")\n",
    "    \n",
    "    "
   ]
  },
  {
   "cell_type": "markdown",
   "id": "f10ab77b-5dfd-4a89-8abf-172bc4253a28",
   "metadata": {},
   "source": [
    "**Tendo como dados de entrada a altura e o sexo do usuario, construa um algoritimo que calcule o seu peso ideal, ultilizando a seguinte formula:\n",
    "para homens (72.7 * h) - 58;\n",
    "para mulheres (62.1 * h) -44.7**\n"
   ]
  },
  {
   "cell_type": "code",
   "execution_count": 6,
   "id": "c110acf9-091b-4da6-bd11-4c1a70286754",
   "metadata": {},
   "outputs": [
    {
     "name": "stdin",
     "output_type": "stream",
     "text": [
      " Digite: m para masculino ou f para feminino:  f\n",
      "Digite sua altura:  1.70\n"
     ]
    },
    {
     "name": "stdout",
     "output_type": "stream",
     "text": [
      "Seu peso ideal é:  60.86999999999999\n"
     ]
    }
   ],
   "source": [
    "import math\n",
    "sexo = (input(\" Digite: m para masculino ou f para feminino: \"))\n",
    "altura = float (input (\"Digite sua altura: \"))\n",
    "if sexo == \"m\":\n",
    "    print (\"Seu peso ideal é: \",(altura*72.7) -58)\n",
    "else:\n",
    "    print (\"Seu peso ideal é: \",(altura*62.1) -44.7)"
   ]
  },
  {
   "cell_type": "markdown",
   "id": "7dcecd2d-52f5-4263-9af7-2a7c7168a455",
   "metadata": {},
   "source": [
    "**ESTRUTURA DE REPETIÇÃO**"
   ]
  },
  {
   "cell_type": "markdown",
   "id": "2c3f69be-3163-4f29-874e-1599bfc2fb98",
   "metadata": {},
   "source": [
    "**Você tem que desenvolver um programa em linguagem python que vai receber como entrada 5 números inteiros (idade das pessoas que estudam com você)\n",
    "Sua tarefa, depois de receber esses números, será calcular a idade média desses colegas.\n",
    "Como seria o programa:**"
   ]
  },
  {
   "cell_type": "code",
   "execution_count": 17,
   "id": "fac2f48c-fef1-4be0-8b1b-46bd371abc97",
   "metadata": {},
   "outputs": [
    {
     "name": "stdin",
     "output_type": "stream",
     "text": [
      "Entre com a idade 1 :  45\n",
      "Entre com a idade 2 :  34\n",
      "Entre com a idade 3 :  30\n",
      "Entre com a idade 4 :  27\n",
      "Entre com a idade 5 :  19\n"
     ]
    },
    {
     "name": "stdout",
     "output_type": "stream",
     "text": [
      "A média da sala é:31.0\n"
     ]
    }
   ],
   "source": [
    "# for\n",
    "soma = 0\n",
    "for i in range (1,6):\n",
    "    idade = int (input(f\"Entre com a idade {i} : \"))\n",
    "    soma = soma + idade\n",
    "media = soma / 5\n",
    "print (f\"A média da sala é:{media}\")"
   ]
  },
  {
   "cell_type": "markdown",
   "id": "a716a6a0-7f40-41fb-8c2f-a325c203c38b",
   "metadata": {},
   "source": [
    "**Fatorial de um número**"
   ]
  },
  {
   "cell_type": "code",
   "execution_count": 25,
   "id": "0f1d14c2-7a32-4014-b219-076a63ba8fd0",
   "metadata": {},
   "outputs": [
    {
     "name": "stdin",
     "output_type": "stream",
     "text": [
      "Entre com um inteiro posivo:  -9\n"
     ]
    },
    {
     "name": "stdout",
     "output_type": "stream",
     "text": [
      "Fatorial não existe\n"
     ]
    }
   ],
   "source": [
    "numero = int (input(\"Entre com um inteiro posivo: \"))\n",
    "fatorial = 1\n",
    "if numero < 0:\n",
    "    print (\"Fatorial não existe\")\n",
    "elif numero == 0:\n",
    "    print (\"Fatorial de 0 = 1\")\n",
    "else:\n",
    "    for i in range (1, numero+1):\n",
    "        fatorial = fatorial * i\n",
    "    print(f\"fatorial de {numero}: {fatorial}\")\n",
    "        \n"
   ]
  },
  {
   "cell_type": "markdown",
   "id": "5598c03f-5bd2-4a4d-8065-a99787ceb030",
   "metadata": {},
   "source": [
    "**Você tem que desenvolver um programa em linguagem python que vai receber como entrada 5 números inteiros (idade das pessoas que estudam com você)\n",
    "Sua tarefa, depois de receber esses números, será calcular a idade média desses colegas.\n",
    "Como seria o programa:**"
   ]
  },
  {
   "cell_type": "code",
   "execution_count": 30,
   "id": "5d9e1af4-c32b-4bf9-b59e-98568f9e7990",
   "metadata": {},
   "outputs": [
    {
     "name": "stdin",
     "output_type": "stream",
     "text": [
      "Digite a idade1 45\n",
      "Digite a idade2 34\n",
      "Digite a idade3 27\n",
      "Digite a idade4 30\n",
      "Digite a idade5 19\n",
      "Digite a idade6 1000\n"
     ]
    },
    {
     "name": "stdout",
     "output_type": "stream",
     "text": [
      "A média de idade dos 5 alunos é de 31.0 anos\n"
     ]
    }
   ],
   "source": [
    "idade = 0\n",
    "soma = 0\n",
    "qtd = 0\n",
    "while idade != 1000:\n",
    "    idade = int(input(f\"Digite a idade{qtd+1}\"))\n",
    "    if idade != 1000:\n",
    "        soma += idade   #mesmo que soma = soma + idade\n",
    "        qtd += 1        #mesmo que qtd = qtd + 1\n",
    "if qtd == 0:\n",
    "    print (\"Não foi digitada idade alguma\")\n",
    "else:\n",
    "    media = soma / qtd\n",
    "    print (f\"A média de idade dos {qtd} alunos é de {media} anos\")"
   ]
  },
  {
   "cell_type": "markdown",
   "id": "77adc1e8-af15-4630-8292-8e287e9c41d3",
   "metadata": {},
   "source": [
    "**Tabuada**"
   ]
  },
  {
   "cell_type": "code",
   "execution_count": 32,
   "id": "fce4bda3-9cda-4754-ac97-b495db3a9e56",
   "metadata": {},
   "outputs": [
    {
     "name": "stdout",
     "output_type": "stream",
     "text": [
      "1 x 8 = 8\n",
      "2 x 8 = 16\n",
      "3 x 8 = 24\n",
      "4 x 8 = 32\n",
      "5 x 8 = 40\n",
      "6 x 8 = 48\n",
      "7 x 8 = 56\n",
      "8 x 8 = 64\n",
      "9 x 8 = 72\n",
      "10 x 8 = 80\n"
     ]
    }
   ],
   "source": [
    "i= 1\n",
    "while i <11:\n",
    "    print(f\"{i} x 8 = {i*8}\")\n",
    "    i+= 1"
   ]
  },
  {
   "cell_type": "code",
   "execution_count": 35,
   "id": "70e0b307-c204-413a-b372-40c295cbcfcc",
   "metadata": {},
   "outputs": [
    {
     "name": "stdout",
     "output_type": "stream",
     "text": [
      "1 x 5 = 5\n",
      "2 x 5 = 10\n",
      "3 x 5 = 15\n",
      "4 x 5 = 20\n",
      "5 x 5 = 25\n",
      "6 x 5 = 30\n",
      "7 x 5 = 35\n",
      "8 x 5 = 40\n",
      "9 x 5 = 45\n",
      "10 x 5 = 50\n"
     ]
    }
   ],
   "source": [
    "i = 1\n",
    "for i in range (1,11):\n",
    "    print(f\"{i} x 5 = {i*5}\")\n",
    "    i+= 1\n"
   ]
  },
  {
   "cell_type": "markdown",
   "id": "6acaf90d-244b-49cc-b43c-02df1a370569",
   "metadata": {},
   "source": [
    "**Faça um programa que receba um número (por exemplo 12345). Você deve calcular e mostrar a soma dos dígitos desse número. Por exemplo: +1+2+3+4+5 = 15. Faça isso usando for e depois while**"
   ]
  },
  {
   "cell_type": "code",
   "execution_count": 40,
   "id": "65c7dddf-5f1d-4a07-b03a-07e74f4372f8",
   "metadata": {},
   "outputs": [
    {
     "name": "stdin",
     "output_type": "stream",
     "text": [
      "Digite um número de 5 dígitos:  55555\n"
     ]
    },
    {
     "name": "stdout",
     "output_type": "stream",
     "text": [
      "A soma é igual a: 25\n"
     ]
    }
   ],
   "source": [
    "n = (input(f\"Digite um número de 5 dígitos: \"))\n",
    "soma = 0\n",
    "for digito in n:\n",
    "    soma += int(digito)\n",
    "print (f\"A soma é igual a: {soma}\")"
   ]
  },
  {
   "cell_type": "code",
   "execution_count": 44,
   "id": "2c8d8e22-8b65-4069-8b36-2f78144b9d44",
   "metadata": {},
   "outputs": [
    {
     "name": "stdin",
     "output_type": "stream",
     "text": [
      "Digite um nuemro de 5 digitos 55555\n"
     ]
    },
    {
     "name": "stdout",
     "output_type": "stream",
     "text": [
      "A soma é igual a: 25\n"
     ]
    }
   ],
   "source": [
    "n = int(input( \"Digite um nuemro de 5 digitos\"))\n",
    "soma = 0\n",
    "resta = 0\n",
    "while n !=0:\n",
    "    resta = n%10\n",
    "    soma += resta\n",
    "    n = int(n/10)\n",
    "print (f\"A soma é igual a: {soma}\")\n"
   ]
  },
  {
   "cell_type": "code",
   "execution_count": null,
   "id": "c7c609f8-0b57-4e8f-9785-fd6791b347c6",
   "metadata": {},
   "outputs": [],
   "source": []
  }
 ],
 "metadata": {
  "kernelspec": {
   "display_name": "Python 3 (ipykernel)",
   "language": "python",
   "name": "python3"
  },
  "language_info": {
   "codemirror_mode": {
    "name": "ipython",
    "version": 3
   },
   "file_extension": ".py",
   "mimetype": "text/x-python",
   "name": "python",
   "nbconvert_exporter": "python",
   "pygments_lexer": "ipython3",
   "version": "3.12.7"
  }
 },
 "nbformat": 4,
 "nbformat_minor": 5
}
