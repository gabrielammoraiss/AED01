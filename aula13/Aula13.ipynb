{
 "cells": [
  {
   "cell_type": "markdown",
   "id": "b3709b2e-9900-4558-88db-1f58cfd6d514",
   "metadata": {},
   "source": [
    "Exercício 1: \n",
    "Crie um programa que recebe uma frase de entrada e a normaliza. A normalização deve transformar a \n",
    "frase para minúsculas, remover os espaços em excesso e substituir os espaços restantes por \n",
    "underscores (_). "
   ]
  },
  {
   "cell_type": "code",
   "execution_count": 8,
   "id": "30d26438-3ffa-42f7-a27e-d714af76de8d",
   "metadata": {},
   "outputs": [
    {
     "name": "stdin",
     "output_type": "stream",
     "text": [
      "Digite uma frase:  Batatinha quando Nasce\n"
     ]
    },
    {
     "name": "stdout",
     "output_type": "stream",
     "text": [
      "Frase normalizada: batatinha_quando_nasce\n"
     ]
    }
   ],
   "source": [
    "\n",
    "frase = input(\"Digite uma frase: \").lower()\n",
    "\n",
    "palavras = frase.split()\n",
    "\n",
    "frase_normalizada = \"_\".join(palavras)\n",
    "\n",
    "print(f\"Frase normalizada: {frase_normalizada}\")"
   ]
  },
  {
   "cell_type": "markdown",
   "id": "0289031d-2a5c-4317-99c0-cec2c9d9ee3a",
   "metadata": {},
   "source": [
    "Exercício 2: \n",
    "Dada uma lista pré-definida de vendas diárias, remova todas as vendas menores que R$ 100,00 e \n",
    "calcule a média das vendas restantes."
   ]
  },
  {
   "cell_type": "code",
   "execution_count": 16,
   "id": "7f42f5e2-8f34-4cde-ae92-c41a47912968",
   "metadata": {},
   "outputs": [
    {
     "name": "stdout",
     "output_type": "stream",
     "text": [
      "Vendas originais: [150.0, 80.0, 200.0, 300.0, 50.0, 120.0, 90.0, 250.0, 110.0]\n",
      "Vendas filtradas (>= R$ 100,00): [150.0, 200.0, 300.0, 120.0, 250.0, 110.0]\n",
      "Média das vendas restantes: R$ 188.33\n"
     ]
    }
   ],
   "source": [
    "\n",
    "vendas_diarias = [150.0, 80.0, 200.0, 300.0, 50.0, 120.0, 90.0, 250.0, 110.0]\n",
    "\n",
    "vendas_filtradas = [venda for venda in vendas_diarias if venda >= 100.0]\n",
    "\n",
    "\n",
    "if vendas_filtradas:  \n",
    "    media = sum(vendas_filtradas) / len(vendas_filtradas)\n",
    "else:\n",
    "    media = 0.0 \n",
    "    \n",
    "print(f\"Vendas originais: {vendas_diarias}\")\n",
    "print(f\"Vendas filtradas (>= R$ 100,00): {vendas_filtradas:}\")\n",
    "print(\"Média das vendas restantes: R$\", f\"{media:.2f}\")"
   ]
  },
  {
   "cell_type": "markdown",
   "id": "138df435-a0e8-4967-9495-d06cf27b6a43",
   "metadata": {},
   "source": [
    "Exercício 3: \n",
    "Crie um programa que recebe três coordenadas (x, y) como tuplas e calcula a distância média dos \n",
    "pontos a partir da origem (0, 0). Use a fórmula da distância Euclidiana."
   ]
  },
  {
   "cell_type": "code",
   "execution_count": 23,
   "id": "5bc01b56-27a5-4ef5-8597-37ce579b2c82",
   "metadata": {},
   "outputs": [
    {
     "name": "stdout",
     "output_type": "stream",
     "text": [
      "\n",
      "Ponto 1:\n"
     ]
    },
    {
     "name": "stdin",
     "output_type": "stream",
     "text": [
      "Digite x1:  4\n",
      "Digite y1:  3\n"
     ]
    },
    {
     "name": "stdout",
     "output_type": "stream",
     "text": [
      "Distância do ponto 1: 5.00\n",
      "\n",
      "Ponto 2:\n"
     ]
    },
    {
     "name": "stdin",
     "output_type": "stream",
     "text": [
      "Digite x2:  6\n",
      "Digite y2:  5\n"
     ]
    },
    {
     "name": "stdout",
     "output_type": "stream",
     "text": [
      "Distância do ponto 2: 7.81\n",
      "\n",
      "Ponto 3:\n"
     ]
    },
    {
     "name": "stdin",
     "output_type": "stream",
     "text": [
      "Digite x3:  3\n",
      "Digite y3:  2\n"
     ]
    },
    {
     "name": "stdout",
     "output_type": "stream",
     "text": [
      "Distância do ponto 3: 3.61\n",
      "\n",
      "Distância média: 5.5\n"
     ]
    }
   ],
   "source": [
    "import math\n",
    "\n",
    "distancias = []\n",
    "\n",
    "for i in range(1,4):\n",
    "    print(f\"\\nPonto {i}:\")\n",
    "    x = float(input(f\"Digite x{i}: \"))\n",
    "    y = float(input(f\"Digite y{i}: \"))\n",
    "    \n",
    "    \n",
    "    distancia = math.sqrt(x**2 + y**2)\n",
    "    distancias.append(distancia)\n",
    "    print(f\"Distância do ponto {i}: {distancia:.2f}\")\n",
    "\n",
    "media = sum(distancias) / len(distancias)\n",
    "\n",
    "\n",
    "print(f\"\\nDistância média: {media:.1f}\")\n",
    "    "
   ]
  },
  {
   "cell_type": "code",
   "execution_count": null,
   "id": "c643fc81-858b-4420-a8a2-04caf9a3e9ab",
   "metadata": {},
   "outputs": [],
   "source": []
  },
  {
   "cell_type": "code",
   "execution_count": 24,
   "id": "7dae8423-66eb-4178-b0c8-b6bca1b3cba9",
   "metadata": {},
   "outputs": [
    {
     "name": "stdin",
     "output_type": "stream",
     "text": [
      "Digite uma frase:  Batatinha Quando nasce\n"
     ]
    },
    {
     "name": "stdout",
     "output_type": "stream",
     "text": [
      "Frequência de palavras: {'batatinha': 1, 'quando': 1, 'nasce': 1}\n"
     ]
    }
   ],
   "source": [
    "\n",
    "frase = input(\"Digite uma frase: \").lower()\n",
    "\n",
    "palavras = frase.split()\n",
    "\n",
    "frequencia = {}\n",
    "\n",
    "for palavra in palavras:\n",
    "    if palavra in frequencia:\n",
    "        frequencia[palavra] += 1\n",
    "    else:\n",
    "        frequencia[palavra] = 1\n",
    "\n",
    "\n",
    "print(\"Frequência de palavras:\", frequencia)"
   ]
  },
  {
   "cell_type": "code",
   "execution_count": null,
   "id": "32473c88-1541-4ed8-a376-be7804c01fa2",
   "metadata": {},
   "outputs": [],
   "source": []
  }
 ],
 "metadata": {
  "kernelspec": {
   "display_name": "Python 3 (ipykernel)",
   "language": "python",
   "name": "python3"
  },
  "language_info": {
   "codemirror_mode": {
    "name": "ipython",
    "version": 3
   },
   "file_extension": ".py",
   "mimetype": "text/x-python",
   "name": "python",
   "nbconvert_exporter": "python",
   "pygments_lexer": "ipython3",
   "version": "3.12.7"
  }
 },
 "nbformat": 4,
 "nbformat_minor": 5
}
